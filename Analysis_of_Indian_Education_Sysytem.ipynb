{
  "nbformat": 4,
  "nbformat_minor": 0,
  "metadata": {
    "colab": {
      "provenance": [],
      "mount_file_id": "1ZOG6gB7GYP_Oi_R62t7Jv6a2onx6trc-",
      "authorship_tag": "ABX9TyMcouPQNfYMe0U3dQJM2xAG",
      "include_colab_link": true
    },
    "kernelspec": {
      "name": "python3",
      "display_name": "Python 3"
    },
    "language_info": {
      "name": "python"
    }
  },
  "cells": [
    {
      "cell_type": "markdown",
      "metadata": {
        "id": "view-in-github",
        "colab_type": "text"
      },
      "source": [
        "<a href=\"https://colab.research.google.com/github/htharshht/Exploratory-Data-Analysis/blob/main/Analysis_of_Indian_Education_Sysytem.ipynb\" target=\"_parent\"><img src=\"https://colab.research.google.com/assets/colab-badge.svg\" alt=\"Open In Colab\"/></a>"
      ]
    },
    {
      "cell_type": "code",
      "execution_count": 93,
      "metadata": {
        "id": "P_aMihYvi1j2"
      },
      "outputs": [],
      "source": [
        "#Importing necessary libraries\n",
        "import pandas as pd\n",
        "import numpy as np"
      ]
    },
    {
      "cell_type": "code",
      "source": [
        "# Loading the dataset\n",
        "dropout_ratio = pd.read_csv('/content/drive/MyDrive/EDA Data Set/dropout-ratio-2012-2015.csv')"
      ],
      "metadata": {
        "id": "9x86Zj1UkLhH"
      },
      "execution_count": 94,
      "outputs": []
    },
    {
      "cell_type": "code",
      "source": [
        "# Having a quick look at the data set to understand it\n",
        "dropout_ratio.head()"
      ],
      "metadata": {
        "colab": {
          "base_uri": "https://localhost:8080/",
          "height": 374
        },
        "id": "F4CNqbbykg8t",
        "outputId": "d3d77663-a7df-4543-bd50-90a4fc8b8b89"
      },
      "execution_count": 95,
      "outputs": [
        {
          "output_type": "execute_result",
          "data": {
            "text/plain": [
              "         State_UT     year Primary_Boys Primary_Girls Primary_Total  \\\n",
              "0   A & N Islands  2012-13         0.83          0.51          0.68   \n",
              "1   A & N Islands  2013-14         1.35          1.06          1.21   \n",
              "2   A & N Islands  2014-15         0.47          0.55          0.51   \n",
              "3  Andhra Pradesh  2012-13          3.3          3.05          3.18   \n",
              "4  Andhra Pradesh  2013-14         4.31          4.39          4.35   \n",
              "\n",
              "  Upper Primary_Boys Upper Primary_Girls Upper Primary_Total Secondary _Boys  \\\n",
              "0     Uppe_r_Primary                1.09                1.23            5.57   \n",
              "1                 NR                1.54                0.51            8.36   \n",
              "2               1.44                1.95                1.69           11.47   \n",
              "3               3.21                3.51                3.36           12.21   \n",
              "4               3.46                4.12                3.78           11.95   \n",
              "\n",
              "  Secondary _Girls Secondary _Total HrSecondary_Boys HrSecondary_Girls  \\\n",
              "0             5.55             5.56            17.66             10.15   \n",
              "1             5.98              7.2            18.94              12.2   \n",
              "2             8.16             9.87            21.05             12.21   \n",
              "3            13.25            12.72             2.66                NR   \n",
              "4            13.37            12.65            12.65             10.85   \n",
              "\n",
              "  HrSecondary_Total  \n",
              "0             14.14  \n",
              "1             15.87  \n",
              "2             16.93  \n",
              "3              0.35  \n",
              "4             11.79  "
            ],
            "text/html": [
              "\n",
              "  <div id=\"df-6eaafb60-8914-4c7d-acac-643a3bc19245\">\n",
              "    <div class=\"colab-df-container\">\n",
              "      <div>\n",
              "<style scoped>\n",
              "    .dataframe tbody tr th:only-of-type {\n",
              "        vertical-align: middle;\n",
              "    }\n",
              "\n",
              "    .dataframe tbody tr th {\n",
              "        vertical-align: top;\n",
              "    }\n",
              "\n",
              "    .dataframe thead th {\n",
              "        text-align: right;\n",
              "    }\n",
              "</style>\n",
              "<table border=\"1\" class=\"dataframe\">\n",
              "  <thead>\n",
              "    <tr style=\"text-align: right;\">\n",
              "      <th></th>\n",
              "      <th>State_UT</th>\n",
              "      <th>year</th>\n",
              "      <th>Primary_Boys</th>\n",
              "      <th>Primary_Girls</th>\n",
              "      <th>Primary_Total</th>\n",
              "      <th>Upper Primary_Boys</th>\n",
              "      <th>Upper Primary_Girls</th>\n",
              "      <th>Upper Primary_Total</th>\n",
              "      <th>Secondary _Boys</th>\n",
              "      <th>Secondary _Girls</th>\n",
              "      <th>Secondary _Total</th>\n",
              "      <th>HrSecondary_Boys</th>\n",
              "      <th>HrSecondary_Girls</th>\n",
              "      <th>HrSecondary_Total</th>\n",
              "    </tr>\n",
              "  </thead>\n",
              "  <tbody>\n",
              "    <tr>\n",
              "      <th>0</th>\n",
              "      <td>A &amp; N Islands</td>\n",
              "      <td>2012-13</td>\n",
              "      <td>0.83</td>\n",
              "      <td>0.51</td>\n",
              "      <td>0.68</td>\n",
              "      <td>Uppe_r_Primary</td>\n",
              "      <td>1.09</td>\n",
              "      <td>1.23</td>\n",
              "      <td>5.57</td>\n",
              "      <td>5.55</td>\n",
              "      <td>5.56</td>\n",
              "      <td>17.66</td>\n",
              "      <td>10.15</td>\n",
              "      <td>14.14</td>\n",
              "    </tr>\n",
              "    <tr>\n",
              "      <th>1</th>\n",
              "      <td>A &amp; N Islands</td>\n",
              "      <td>2013-14</td>\n",
              "      <td>1.35</td>\n",
              "      <td>1.06</td>\n",
              "      <td>1.21</td>\n",
              "      <td>NR</td>\n",
              "      <td>1.54</td>\n",
              "      <td>0.51</td>\n",
              "      <td>8.36</td>\n",
              "      <td>5.98</td>\n",
              "      <td>7.2</td>\n",
              "      <td>18.94</td>\n",
              "      <td>12.2</td>\n",
              "      <td>15.87</td>\n",
              "    </tr>\n",
              "    <tr>\n",
              "      <th>2</th>\n",
              "      <td>A &amp; N Islands</td>\n",
              "      <td>2014-15</td>\n",
              "      <td>0.47</td>\n",
              "      <td>0.55</td>\n",
              "      <td>0.51</td>\n",
              "      <td>1.44</td>\n",
              "      <td>1.95</td>\n",
              "      <td>1.69</td>\n",
              "      <td>11.47</td>\n",
              "      <td>8.16</td>\n",
              "      <td>9.87</td>\n",
              "      <td>21.05</td>\n",
              "      <td>12.21</td>\n",
              "      <td>16.93</td>\n",
              "    </tr>\n",
              "    <tr>\n",
              "      <th>3</th>\n",
              "      <td>Andhra Pradesh</td>\n",
              "      <td>2012-13</td>\n",
              "      <td>3.3</td>\n",
              "      <td>3.05</td>\n",
              "      <td>3.18</td>\n",
              "      <td>3.21</td>\n",
              "      <td>3.51</td>\n",
              "      <td>3.36</td>\n",
              "      <td>12.21</td>\n",
              "      <td>13.25</td>\n",
              "      <td>12.72</td>\n",
              "      <td>2.66</td>\n",
              "      <td>NR</td>\n",
              "      <td>0.35</td>\n",
              "    </tr>\n",
              "    <tr>\n",
              "      <th>4</th>\n",
              "      <td>Andhra Pradesh</td>\n",
              "      <td>2013-14</td>\n",
              "      <td>4.31</td>\n",
              "      <td>4.39</td>\n",
              "      <td>4.35</td>\n",
              "      <td>3.46</td>\n",
              "      <td>4.12</td>\n",
              "      <td>3.78</td>\n",
              "      <td>11.95</td>\n",
              "      <td>13.37</td>\n",
              "      <td>12.65</td>\n",
              "      <td>12.65</td>\n",
              "      <td>10.85</td>\n",
              "      <td>11.79</td>\n",
              "    </tr>\n",
              "  </tbody>\n",
              "</table>\n",
              "</div>\n",
              "      <button class=\"colab-df-convert\" onclick=\"convertToInteractive('df-6eaafb60-8914-4c7d-acac-643a3bc19245')\"\n",
              "              title=\"Convert this dataframe to an interactive table.\"\n",
              "              style=\"display:none;\">\n",
              "        \n",
              "  <svg xmlns=\"http://www.w3.org/2000/svg\" height=\"24px\"viewBox=\"0 0 24 24\"\n",
              "       width=\"24px\">\n",
              "    <path d=\"M0 0h24v24H0V0z\" fill=\"none\"/>\n",
              "    <path d=\"M18.56 5.44l.94 2.06.94-2.06 2.06-.94-2.06-.94-.94-2.06-.94 2.06-2.06.94zm-11 1L8.5 8.5l.94-2.06 2.06-.94-2.06-.94L8.5 2.5l-.94 2.06-2.06.94zm10 10l.94 2.06.94-2.06 2.06-.94-2.06-.94-.94-2.06-.94 2.06-2.06.94z\"/><path d=\"M17.41 7.96l-1.37-1.37c-.4-.4-.92-.59-1.43-.59-.52 0-1.04.2-1.43.59L10.3 9.45l-7.72 7.72c-.78.78-.78 2.05 0 2.83L4 21.41c.39.39.9.59 1.41.59.51 0 1.02-.2 1.41-.59l7.78-7.78 2.81-2.81c.8-.78.8-2.07 0-2.86zM5.41 20L4 18.59l7.72-7.72 1.47 1.35L5.41 20z\"/>\n",
              "  </svg>\n",
              "      </button>\n",
              "      \n",
              "  <style>\n",
              "    .colab-df-container {\n",
              "      display:flex;\n",
              "      flex-wrap:wrap;\n",
              "      gap: 12px;\n",
              "    }\n",
              "\n",
              "    .colab-df-convert {\n",
              "      background-color: #E8F0FE;\n",
              "      border: none;\n",
              "      border-radius: 50%;\n",
              "      cursor: pointer;\n",
              "      display: none;\n",
              "      fill: #1967D2;\n",
              "      height: 32px;\n",
              "      padding: 0 0 0 0;\n",
              "      width: 32px;\n",
              "    }\n",
              "\n",
              "    .colab-df-convert:hover {\n",
              "      background-color: #E2EBFA;\n",
              "      box-shadow: 0px 1px 2px rgba(60, 64, 67, 0.3), 0px 1px 3px 1px rgba(60, 64, 67, 0.15);\n",
              "      fill: #174EA6;\n",
              "    }\n",
              "\n",
              "    [theme=dark] .colab-df-convert {\n",
              "      background-color: #3B4455;\n",
              "      fill: #D2E3FC;\n",
              "    }\n",
              "\n",
              "    [theme=dark] .colab-df-convert:hover {\n",
              "      background-color: #434B5C;\n",
              "      box-shadow: 0px 1px 3px 1px rgba(0, 0, 0, 0.15);\n",
              "      filter: drop-shadow(0px 1px 2px rgba(0, 0, 0, 0.3));\n",
              "      fill: #FFFFFF;\n",
              "    }\n",
              "  </style>\n",
              "\n",
              "      <script>\n",
              "        const buttonEl =\n",
              "          document.querySelector('#df-6eaafb60-8914-4c7d-acac-643a3bc19245 button.colab-df-convert');\n",
              "        buttonEl.style.display =\n",
              "          google.colab.kernel.accessAllowed ? 'block' : 'none';\n",
              "\n",
              "        async function convertToInteractive(key) {\n",
              "          const element = document.querySelector('#df-6eaafb60-8914-4c7d-acac-643a3bc19245');\n",
              "          const dataTable =\n",
              "            await google.colab.kernel.invokeFunction('convertToInteractive',\n",
              "                                                     [key], {});\n",
              "          if (!dataTable) return;\n",
              "\n",
              "          const docLinkHtml = 'Like what you see? Visit the ' +\n",
              "            '<a target=\"_blank\" href=https://colab.research.google.com/notebooks/data_table.ipynb>data table notebook</a>'\n",
              "            + ' to learn more about interactive tables.';\n",
              "          element.innerHTML = '';\n",
              "          dataTable['output_type'] = 'display_data';\n",
              "          await google.colab.output.renderOutput(dataTable, element);\n",
              "          const docLink = document.createElement('div');\n",
              "          docLink.innerHTML = docLinkHtml;\n",
              "          element.appendChild(docLink);\n",
              "        }\n",
              "      </script>\n",
              "    </div>\n",
              "  </div>\n",
              "  "
            ]
          },
          "metadata": {},
          "execution_count": 95
        }
      ]
    },
    {
      "cell_type": "code",
      "source": [
        "# Checking all columns avsilable in the data set\n",
        "dropout_ratio.columns"
      ],
      "metadata": {
        "colab": {
          "base_uri": "https://localhost:8080/"
        },
        "id": "3AUVkeGIl4eP",
        "outputId": "00a9b46f-ddcb-49b1-dea4-464e3b03fba3"
      },
      "execution_count": 96,
      "outputs": [
        {
          "output_type": "execute_result",
          "data": {
            "text/plain": [
              "Index(['State_UT', 'year', 'Primary_Boys', 'Primary_Girls', 'Primary_Total',\n",
              "       'Upper Primary_Boys', 'Upper Primary_Girls', 'Upper Primary_Total',\n",
              "       'Secondary _Boys', 'Secondary _Girls', 'Secondary _Total',\n",
              "       'HrSecondary_Boys', 'HrSecondary_Girls', 'HrSecondary_Total'],\n",
              "      dtype='object')"
            ]
          },
          "metadata": {},
          "execution_count": 96
        }
      ]
    },
    {
      "cell_type": "code",
      "source": [
        "#checking the information of the data\n",
        "dropout_ratio.info()"
      ],
      "metadata": {
        "colab": {
          "base_uri": "https://localhost:8080/"
        },
        "id": "vBl03hxpp_AI",
        "outputId": "6fe9dff3-6631-4546-d463-70bc44b26fa1"
      },
      "execution_count": 97,
      "outputs": [
        {
          "output_type": "stream",
          "name": "stdout",
          "text": [
            "<class 'pandas.core.frame.DataFrame'>\n",
            "RangeIndex: 110 entries, 0 to 109\n",
            "Data columns (total 14 columns):\n",
            " #   Column               Non-Null Count  Dtype \n",
            "---  ------               --------------  ----- \n",
            " 0   State_UT             110 non-null    object\n",
            " 1   year                 110 non-null    object\n",
            " 2   Primary_Boys         110 non-null    object\n",
            " 3   Primary_Girls        110 non-null    object\n",
            " 4   Primary_Total        110 non-null    object\n",
            " 5   Upper Primary_Boys   110 non-null    object\n",
            " 6   Upper Primary_Girls  110 non-null    object\n",
            " 7   Upper Primary_Total  110 non-null    object\n",
            " 8   Secondary _Boys      110 non-null    object\n",
            " 9   Secondary _Girls     110 non-null    object\n",
            " 10  Secondary _Total     110 non-null    object\n",
            " 11  HrSecondary_Boys     110 non-null    object\n",
            " 12  HrSecondary_Girls    110 non-null    object\n",
            " 13  HrSecondary_Total    110 non-null    object\n",
            "dtypes: object(14)\n",
            "memory usage: 12.2+ KB\n"
          ]
        }
      ]
    },
    {
      "cell_type": "code",
      "source": [
        "# Checking if the data set has any missing value in it\n",
        "dropout_ratio.isna().any() #false means no null vlaues true means yes"
      ],
      "metadata": {
        "colab": {
          "base_uri": "https://localhost:8080/"
        },
        "id": "lcZJCDhTmcAe",
        "outputId": "ac289451-8676-49a9-c4f3-d8ace7c1d71f"
      },
      "execution_count": 98,
      "outputs": [
        {
          "output_type": "execute_result",
          "data": {
            "text/plain": [
              "State_UT               False\n",
              "year                   False\n",
              "Primary_Boys           False\n",
              "Primary_Girls          False\n",
              "Primary_Total          False\n",
              "Upper Primary_Boys     False\n",
              "Upper Primary_Girls    False\n",
              "Upper Primary_Total    False\n",
              "Secondary _Boys        False\n",
              "Secondary _Girls       False\n",
              "Secondary _Total       False\n",
              "HrSecondary_Boys       False\n",
              "HrSecondary_Girls      False\n",
              "HrSecondary_Total      False\n",
              "dtype: bool"
            ]
          },
          "metadata": {},
          "execution_count": 98
        }
      ]
    },
    {
      "cell_type": "markdown",
      "source": [
        "So it is clear that w edon't have missing values in our data set"
      ],
      "metadata": {
        "id": "JP_bTAwxnNCc"
      }
    },
    {
      "cell_type": "markdown",
      "source": [
        "# Starting the Data cleaning process"
      ],
      "metadata": {
        "id": "1XE0oMPUzcTR"
      }
    },
    {
      "cell_type": "code",
      "source": [
        "# storing data for a particular state\n",
        "data_ap = dropout_ratio[dropout_ratio['State_UT'] == 'Andhra Pradesh']\n",
        "print(data_ap.head())"
      ],
      "metadata": {
        "colab": {
          "base_uri": "https://localhost:8080/"
        },
        "id": "SKajp1aAnVau",
        "outputId": "67e759be-7b8b-4871-8b15-0f70b4acff51"
      },
      "execution_count": 99,
      "outputs": [
        {
          "output_type": "stream",
          "name": "stdout",
          "text": [
            "         State_UT     year Primary_Boys Primary_Girls Primary_Total  \\\n",
            "3  Andhra Pradesh  2012-13          3.3          3.05          3.18   \n",
            "4  Andhra Pradesh  2013-14         4.31          4.39          4.35   \n",
            "5  Andhra Pradesh  2014-15         6.57          6.89          6.72   \n",
            "\n",
            "  Upper Primary_Boys Upper Primary_Girls Upper Primary_Total Secondary _Boys  \\\n",
            "3               3.21                3.51                3.36           12.21   \n",
            "4               3.46                4.12                3.78           11.95   \n",
            "5               5.09                5.32                 5.2           15.81   \n",
            "\n",
            "  Secondary _Girls Secondary _Total HrSecondary_Boys HrSecondary_Girls  \\\n",
            "3            13.25            12.72             2.66                NR   \n",
            "4            13.37            12.65            12.65             10.85   \n",
            "5             15.6            15.71               NR                NR   \n",
            "\n",
            "  HrSecondary_Total  \n",
            "3              0.35  \n",
            "4             11.79  \n",
            "5                NR  \n"
          ]
        }
      ]
    },
    {
      "cell_type": "code",
      "source": [
        "data_ap"
      ],
      "metadata": {
        "colab": {
          "base_uri": "https://localhost:8080/",
          "height": 277
        },
        "id": "gxvJF89DnVUj",
        "outputId": "70b6c35e-45b3-4b88-dbd6-525114e4b125"
      },
      "execution_count": 100,
      "outputs": [
        {
          "output_type": "execute_result",
          "data": {
            "text/plain": [
              "         State_UT     year Primary_Boys Primary_Girls Primary_Total  \\\n",
              "3  Andhra Pradesh  2012-13          3.3          3.05          3.18   \n",
              "4  Andhra Pradesh  2013-14         4.31          4.39          4.35   \n",
              "5  Andhra Pradesh  2014-15         6.57          6.89          6.72   \n",
              "\n",
              "  Upper Primary_Boys Upper Primary_Girls Upper Primary_Total Secondary _Boys  \\\n",
              "3               3.21                3.51                3.36           12.21   \n",
              "4               3.46                4.12                3.78           11.95   \n",
              "5               5.09                5.32                 5.2           15.81   \n",
              "\n",
              "  Secondary _Girls Secondary _Total HrSecondary_Boys HrSecondary_Girls  \\\n",
              "3            13.25            12.72             2.66                NR   \n",
              "4            13.37            12.65            12.65             10.85   \n",
              "5             15.6            15.71               NR                NR   \n",
              "\n",
              "  HrSecondary_Total  \n",
              "3              0.35  \n",
              "4             11.79  \n",
              "5                NR  "
            ],
            "text/html": [
              "\n",
              "  <div id=\"df-faa31315-7b21-4324-be22-0467e9eafa94\">\n",
              "    <div class=\"colab-df-container\">\n",
              "      <div>\n",
              "<style scoped>\n",
              "    .dataframe tbody tr th:only-of-type {\n",
              "        vertical-align: middle;\n",
              "    }\n",
              "\n",
              "    .dataframe tbody tr th {\n",
              "        vertical-align: top;\n",
              "    }\n",
              "\n",
              "    .dataframe thead th {\n",
              "        text-align: right;\n",
              "    }\n",
              "</style>\n",
              "<table border=\"1\" class=\"dataframe\">\n",
              "  <thead>\n",
              "    <tr style=\"text-align: right;\">\n",
              "      <th></th>\n",
              "      <th>State_UT</th>\n",
              "      <th>year</th>\n",
              "      <th>Primary_Boys</th>\n",
              "      <th>Primary_Girls</th>\n",
              "      <th>Primary_Total</th>\n",
              "      <th>Upper Primary_Boys</th>\n",
              "      <th>Upper Primary_Girls</th>\n",
              "      <th>Upper Primary_Total</th>\n",
              "      <th>Secondary _Boys</th>\n",
              "      <th>Secondary _Girls</th>\n",
              "      <th>Secondary _Total</th>\n",
              "      <th>HrSecondary_Boys</th>\n",
              "      <th>HrSecondary_Girls</th>\n",
              "      <th>HrSecondary_Total</th>\n",
              "    </tr>\n",
              "  </thead>\n",
              "  <tbody>\n",
              "    <tr>\n",
              "      <th>3</th>\n",
              "      <td>Andhra Pradesh</td>\n",
              "      <td>2012-13</td>\n",
              "      <td>3.3</td>\n",
              "      <td>3.05</td>\n",
              "      <td>3.18</td>\n",
              "      <td>3.21</td>\n",
              "      <td>3.51</td>\n",
              "      <td>3.36</td>\n",
              "      <td>12.21</td>\n",
              "      <td>13.25</td>\n",
              "      <td>12.72</td>\n",
              "      <td>2.66</td>\n",
              "      <td>NR</td>\n",
              "      <td>0.35</td>\n",
              "    </tr>\n",
              "    <tr>\n",
              "      <th>4</th>\n",
              "      <td>Andhra Pradesh</td>\n",
              "      <td>2013-14</td>\n",
              "      <td>4.31</td>\n",
              "      <td>4.39</td>\n",
              "      <td>4.35</td>\n",
              "      <td>3.46</td>\n",
              "      <td>4.12</td>\n",
              "      <td>3.78</td>\n",
              "      <td>11.95</td>\n",
              "      <td>13.37</td>\n",
              "      <td>12.65</td>\n",
              "      <td>12.65</td>\n",
              "      <td>10.85</td>\n",
              "      <td>11.79</td>\n",
              "    </tr>\n",
              "    <tr>\n",
              "      <th>5</th>\n",
              "      <td>Andhra Pradesh</td>\n",
              "      <td>2014-15</td>\n",
              "      <td>6.57</td>\n",
              "      <td>6.89</td>\n",
              "      <td>6.72</td>\n",
              "      <td>5.09</td>\n",
              "      <td>5.32</td>\n",
              "      <td>5.2</td>\n",
              "      <td>15.81</td>\n",
              "      <td>15.6</td>\n",
              "      <td>15.71</td>\n",
              "      <td>NR</td>\n",
              "      <td>NR</td>\n",
              "      <td>NR</td>\n",
              "    </tr>\n",
              "  </tbody>\n",
              "</table>\n",
              "</div>\n",
              "      <button class=\"colab-df-convert\" onclick=\"convertToInteractive('df-faa31315-7b21-4324-be22-0467e9eafa94')\"\n",
              "              title=\"Convert this dataframe to an interactive table.\"\n",
              "              style=\"display:none;\">\n",
              "        \n",
              "  <svg xmlns=\"http://www.w3.org/2000/svg\" height=\"24px\"viewBox=\"0 0 24 24\"\n",
              "       width=\"24px\">\n",
              "    <path d=\"M0 0h24v24H0V0z\" fill=\"none\"/>\n",
              "    <path d=\"M18.56 5.44l.94 2.06.94-2.06 2.06-.94-2.06-.94-.94-2.06-.94 2.06-2.06.94zm-11 1L8.5 8.5l.94-2.06 2.06-.94-2.06-.94L8.5 2.5l-.94 2.06-2.06.94zm10 10l.94 2.06.94-2.06 2.06-.94-2.06-.94-.94-2.06-.94 2.06-2.06.94z\"/><path d=\"M17.41 7.96l-1.37-1.37c-.4-.4-.92-.59-1.43-.59-.52 0-1.04.2-1.43.59L10.3 9.45l-7.72 7.72c-.78.78-.78 2.05 0 2.83L4 21.41c.39.39.9.59 1.41.59.51 0 1.02-.2 1.41-.59l7.78-7.78 2.81-2.81c.8-.78.8-2.07 0-2.86zM5.41 20L4 18.59l7.72-7.72 1.47 1.35L5.41 20z\"/>\n",
              "  </svg>\n",
              "      </button>\n",
              "      \n",
              "  <style>\n",
              "    .colab-df-container {\n",
              "      display:flex;\n",
              "      flex-wrap:wrap;\n",
              "      gap: 12px;\n",
              "    }\n",
              "\n",
              "    .colab-df-convert {\n",
              "      background-color: #E8F0FE;\n",
              "      border: none;\n",
              "      border-radius: 50%;\n",
              "      cursor: pointer;\n",
              "      display: none;\n",
              "      fill: #1967D2;\n",
              "      height: 32px;\n",
              "      padding: 0 0 0 0;\n",
              "      width: 32px;\n",
              "    }\n",
              "\n",
              "    .colab-df-convert:hover {\n",
              "      background-color: #E2EBFA;\n",
              "      box-shadow: 0px 1px 2px rgba(60, 64, 67, 0.3), 0px 1px 3px 1px rgba(60, 64, 67, 0.15);\n",
              "      fill: #174EA6;\n",
              "    }\n",
              "\n",
              "    [theme=dark] .colab-df-convert {\n",
              "      background-color: #3B4455;\n",
              "      fill: #D2E3FC;\n",
              "    }\n",
              "\n",
              "    [theme=dark] .colab-df-convert:hover {\n",
              "      background-color: #434B5C;\n",
              "      box-shadow: 0px 1px 3px 1px rgba(0, 0, 0, 0.15);\n",
              "      filter: drop-shadow(0px 1px 2px rgba(0, 0, 0, 0.3));\n",
              "      fill: #FFFFFF;\n",
              "    }\n",
              "  </style>\n",
              "\n",
              "      <script>\n",
              "        const buttonEl =\n",
              "          document.querySelector('#df-faa31315-7b21-4324-be22-0467e9eafa94 button.colab-df-convert');\n",
              "        buttonEl.style.display =\n",
              "          google.colab.kernel.accessAllowed ? 'block' : 'none';\n",
              "\n",
              "        async function convertToInteractive(key) {\n",
              "          const element = document.querySelector('#df-faa31315-7b21-4324-be22-0467e9eafa94');\n",
              "          const dataTable =\n",
              "            await google.colab.kernel.invokeFunction('convertToInteractive',\n",
              "                                                     [key], {});\n",
              "          if (!dataTable) return;\n",
              "\n",
              "          const docLinkHtml = 'Like what you see? Visit the ' +\n",
              "            '<a target=\"_blank\" href=https://colab.research.google.com/notebooks/data_table.ipynb>data table notebook</a>'\n",
              "            + ' to learn more about interactive tables.';\n",
              "          element.innerHTML = '';\n",
              "          dataTable['output_type'] = 'display_data';\n",
              "          await google.colab.output.renderOutput(dataTable, element);\n",
              "          const docLink = document.createElement('div');\n",
              "          docLink.innerHTML = docLinkHtml;\n",
              "          element.appendChild(docLink);\n",
              "        }\n",
              "      </script>\n",
              "    </div>\n",
              "  </div>\n",
              "  "
            ]
          },
          "metadata": {},
          "execution_count": 100
        }
      ]
    },
    {
      "cell_type": "code",
      "source": [
        "#checking the information of data for state Andhra Pradesh\n",
        "data_ap.info()"
      ],
      "metadata": {
        "colab": {
          "base_uri": "https://localhost:8080/"
        },
        "id": "PsTpeKm0qIl7",
        "outputId": "b3b9e16a-f866-457c-ae68-23e49e703066"
      },
      "execution_count": 101,
      "outputs": [
        {
          "output_type": "stream",
          "name": "stdout",
          "text": [
            "<class 'pandas.core.frame.DataFrame'>\n",
            "Int64Index: 3 entries, 3 to 5\n",
            "Data columns (total 14 columns):\n",
            " #   Column               Non-Null Count  Dtype \n",
            "---  ------               --------------  ----- \n",
            " 0   State_UT             3 non-null      object\n",
            " 1   year                 3 non-null      object\n",
            " 2   Primary_Boys         3 non-null      object\n",
            " 3   Primary_Girls        3 non-null      object\n",
            " 4   Primary_Total        3 non-null      object\n",
            " 5   Upper Primary_Boys   3 non-null      object\n",
            " 6   Upper Primary_Girls  3 non-null      object\n",
            " 7   Upper Primary_Total  3 non-null      object\n",
            " 8   Secondary _Boys      3 non-null      object\n",
            " 9   Secondary _Girls     3 non-null      object\n",
            " 10  Secondary _Total     3 non-null      object\n",
            " 11  HrSecondary_Boys     3 non-null      object\n",
            " 12  HrSecondary_Girls    3 non-null      object\n",
            " 13  HrSecondary_Total    3 non-null      object\n",
            "dtypes: object(14)\n",
            "memory usage: 360.0+ bytes\n"
          ]
        }
      ]
    },
    {
      "cell_type": "code",
      "source": [
        "#checking the values of the data \n",
        "dropout_ratio['Primary_Boys'].values"
      ],
      "metadata": {
        "colab": {
          "base_uri": "https://localhost:8080/"
        },
        "id": "cqWODGBiqejq",
        "outputId": "6d4721a0-41ec-41f1-e67d-be5d2e1036f5"
      },
      "execution_count": 110,
      "outputs": [
        {
          "output_type": "execute_result",
          "data": {
            "text/plain": [
              "array([ 0.83,  1.35,  0.47,  3.3 ,  4.31,  6.57, 11.54, 15.84, 11.51,\n",
              "        7.02,  8.19, 16.07,  0.  ,  2.38,  0.35,  0.  ,  0.  ,  0.  ,\n",
              "        4.24,  1.45,  3.08,  0.  ,  1.05,  1.6 ,  0.  ,  1.06,  1.8 ,\n",
              "        0.  ,  0.  ,  0.  ,  0.  ,  0.08,  0.63,  0.21,  0.5 ,  0.82,\n",
              "        1.48,  0.22,  5.54,  0.51,  0.57,  0.46,  6.8 ,  5.53,  6.98,\n",
              "        7.36,  6.89,  5.91,  3.4 ,  2.42,  2.03,  0.  ,  0.  ,  0.  ,\n",
              "        2.3 ,  0.  ,  0.  ,  5.75,  9.91,  6.48,  0.88,  0.51,  1.26,\n",
              "       10.24, 17.27,  9.5 , 11.32, 11.3 , 10.35, 24.27, 12.57, 10.17,\n",
              "        7.11, 19.09,  6.18,  3.63,  2.83,  2.91,  0.25,  0.76,  0.36,\n",
              "        1.99,  1.35,  2.89,  7.2 ,  7.76,  5.02,  4.78,  5.55,  3.75,\n",
              "        4.02,  0.53,  0.  ,  6.04,  2.21,  2.31,  3.63,  1.37, 10.53,\n",
              "        7.91,  9.08,  1.14,  3.28,  4.37,  6.88,  3.44,  2.13,  4.68,\n",
              "        4.53,  4.36])"
            ]
          },
          "metadata": {},
          "execution_count": 110
        }
      ]
    },
    {
      "cell_type": "markdown",
      "source": [
        "There are alot of values called 'NR' which nothing but null values"
      ],
      "metadata": {
        "id": "BUgPTs9rrFkO"
      }
    },
    {
      "cell_type": "code",
      "source": [
        "#Replacing null values ('NR') with zero\n",
        "dropout_ratio = dropout_ratio.replace('NR', 0)"
      ],
      "metadata": {
        "id": "RCyDqj5XrOyI"
      },
      "execution_count": 103,
      "outputs": []
    },
    {
      "cell_type": "code",
      "source": [
        "# Changing Primary_Boys an dGirls values into float values\n",
        "dropout_ratio['Primary_Boys'] = dropout_ratio['Primary_Boys'].apply(lambda x: float(x))\n",
        "dropout_ratio['Primary_Girls'] = dropout_ratio['Primary_Girls'].apply(lambda x: float(x))"
      ],
      "metadata": {
        "id": "VXuNi6Mpr69U"
      },
      "execution_count": 119,
      "outputs": []
    },
    {
      "cell_type": "code",
      "source": [
        "#Repalcing the string 'Uppe_r_Primary' into Zero\n",
        "dropout_ratio = dropout_ratio.replace('Uppe_r_Primary', 0)"
      ],
      "metadata": {
        "id": "Nc9Y9-PSwDhz"
      },
      "execution_count": 120,
      "outputs": []
    },
    {
      "cell_type": "code",
      "source": [
        "# Converting all the values of Primary students into float\n",
        "dropout_ratio['Upper Primary_Boys'] = dropout_ratio['Upper Primary_Boys'].apply(lambda x: float(x))\n",
        "dropout_ratio['Upper Primary_Girls'] = dropout_ratio['Upper Primary_Girls'].apply(lambda x: float(x))"
      ],
      "metadata": {
        "id": "UiWySnMWt7lb"
      },
      "execution_count": 121,
      "outputs": []
    },
    {
      "cell_type": "code",
      "source": [
        "# Converting all the values of secondary students into float\n",
        "dropout_ratio['Secondary _Boys'] = dropout_ratio['Secondary _Boys'].apply(lambda x: float(x))\n",
        "dropout_ratio['Secondary _Girls'] = dropout_ratio['Secondary _Girls'].apply(lambda x: float(x))"
      ],
      "metadata": {
        "id": "rM5M7R_hwdyy"
      },
      "execution_count": 122,
      "outputs": []
    },
    {
      "cell_type": "code",
      "source": [
        "# Converting all the values of hiegher secondary students into float\n",
        "dropout_ratio['HrSecondary_Boys'] = dropout_ratio['HrSecondary_Boys'].apply(lambda x: float(x))\n",
        "dropout_ratio['HrSecondary_Girls'] = dropout_ratio['HrSecondary_Girls'].apply(lambda x: float(x))\n"
      ],
      "metadata": {
        "id": "9th7UEMgwkF7"
      },
      "execution_count": 117,
      "outputs": []
    },
    {
      "cell_type": "code",
      "source": [
        "# Checking the description of the data set\n",
        "dropout_ratio.describe()"
      ],
      "metadata": {
        "colab": {
          "base_uri": "https://localhost:8080/",
          "height": 344
        },
        "id": "KNyRHBTIyHkC",
        "outputId": "6195857a-eb81-4c65-cd69-79acf2cafa8b"
      },
      "execution_count": 123,
      "outputs": [
        {
          "output_type": "execute_result",
          "data": {
            "text/plain": [
              "       Primary_Boys  Primary_Girls  Upper Primary_Boys  Upper Primary_Girls  \\\n",
              "count    110.000000     110.000000          110.000000           110.000000   \n",
              "mean       4.293455       4.010818            3.581909             4.169455   \n",
              "std        4.674719       4.553512            3.388699             3.444964   \n",
              "min        0.000000       0.000000            0.000000             0.000000   \n",
              "25%        0.540000       0.590000            0.782500             1.580000   \n",
              "50%        2.900000       2.440000            3.120000             3.535000   \n",
              "75%        6.742500       5.870000            5.422500             5.835000   \n",
              "max       24.270000      23.930000           19.350000            19.210000   \n",
              "\n",
              "       Secondary _Boys  Secondary _Girls  HrSecondary_Boys  HrSecondary_Girls  \n",
              "count       110.000000        110.000000         110.00000         110.000000  \n",
              "mean         17.162273         16.311455           6.96800           4.979364  \n",
              "std           8.931009          9.403942           7.40457           5.468031  \n",
              "min           0.000000          0.000000           0.00000           0.000000  \n",
              "25%          11.312500          9.385000           0.05750           0.000000  \n",
              "50%          16.105000         14.985000           5.68000           3.880000  \n",
              "75%          23.012500         21.682500          11.76500           8.470000  \n",
              "max          50.090000         49.620000          44.38000          36.050000  "
            ],
            "text/html": [
              "\n",
              "  <div id=\"df-7d4e3ce2-3b23-4d7e-99f9-93c1957cc2f1\">\n",
              "    <div class=\"colab-df-container\">\n",
              "      <div>\n",
              "<style scoped>\n",
              "    .dataframe tbody tr th:only-of-type {\n",
              "        vertical-align: middle;\n",
              "    }\n",
              "\n",
              "    .dataframe tbody tr th {\n",
              "        vertical-align: top;\n",
              "    }\n",
              "\n",
              "    .dataframe thead th {\n",
              "        text-align: right;\n",
              "    }\n",
              "</style>\n",
              "<table border=\"1\" class=\"dataframe\">\n",
              "  <thead>\n",
              "    <tr style=\"text-align: right;\">\n",
              "      <th></th>\n",
              "      <th>Primary_Boys</th>\n",
              "      <th>Primary_Girls</th>\n",
              "      <th>Upper Primary_Boys</th>\n",
              "      <th>Upper Primary_Girls</th>\n",
              "      <th>Secondary _Boys</th>\n",
              "      <th>Secondary _Girls</th>\n",
              "      <th>HrSecondary_Boys</th>\n",
              "      <th>HrSecondary_Girls</th>\n",
              "    </tr>\n",
              "  </thead>\n",
              "  <tbody>\n",
              "    <tr>\n",
              "      <th>count</th>\n",
              "      <td>110.000000</td>\n",
              "      <td>110.000000</td>\n",
              "      <td>110.000000</td>\n",
              "      <td>110.000000</td>\n",
              "      <td>110.000000</td>\n",
              "      <td>110.000000</td>\n",
              "      <td>110.00000</td>\n",
              "      <td>110.000000</td>\n",
              "    </tr>\n",
              "    <tr>\n",
              "      <th>mean</th>\n",
              "      <td>4.293455</td>\n",
              "      <td>4.010818</td>\n",
              "      <td>3.581909</td>\n",
              "      <td>4.169455</td>\n",
              "      <td>17.162273</td>\n",
              "      <td>16.311455</td>\n",
              "      <td>6.96800</td>\n",
              "      <td>4.979364</td>\n",
              "    </tr>\n",
              "    <tr>\n",
              "      <th>std</th>\n",
              "      <td>4.674719</td>\n",
              "      <td>4.553512</td>\n",
              "      <td>3.388699</td>\n",
              "      <td>3.444964</td>\n",
              "      <td>8.931009</td>\n",
              "      <td>9.403942</td>\n",
              "      <td>7.40457</td>\n",
              "      <td>5.468031</td>\n",
              "    </tr>\n",
              "    <tr>\n",
              "      <th>min</th>\n",
              "      <td>0.000000</td>\n",
              "      <td>0.000000</td>\n",
              "      <td>0.000000</td>\n",
              "      <td>0.000000</td>\n",
              "      <td>0.000000</td>\n",
              "      <td>0.000000</td>\n",
              "      <td>0.00000</td>\n",
              "      <td>0.000000</td>\n",
              "    </tr>\n",
              "    <tr>\n",
              "      <th>25%</th>\n",
              "      <td>0.540000</td>\n",
              "      <td>0.590000</td>\n",
              "      <td>0.782500</td>\n",
              "      <td>1.580000</td>\n",
              "      <td>11.312500</td>\n",
              "      <td>9.385000</td>\n",
              "      <td>0.05750</td>\n",
              "      <td>0.000000</td>\n",
              "    </tr>\n",
              "    <tr>\n",
              "      <th>50%</th>\n",
              "      <td>2.900000</td>\n",
              "      <td>2.440000</td>\n",
              "      <td>3.120000</td>\n",
              "      <td>3.535000</td>\n",
              "      <td>16.105000</td>\n",
              "      <td>14.985000</td>\n",
              "      <td>5.68000</td>\n",
              "      <td>3.880000</td>\n",
              "    </tr>\n",
              "    <tr>\n",
              "      <th>75%</th>\n",
              "      <td>6.742500</td>\n",
              "      <td>5.870000</td>\n",
              "      <td>5.422500</td>\n",
              "      <td>5.835000</td>\n",
              "      <td>23.012500</td>\n",
              "      <td>21.682500</td>\n",
              "      <td>11.76500</td>\n",
              "      <td>8.470000</td>\n",
              "    </tr>\n",
              "    <tr>\n",
              "      <th>max</th>\n",
              "      <td>24.270000</td>\n",
              "      <td>23.930000</td>\n",
              "      <td>19.350000</td>\n",
              "      <td>19.210000</td>\n",
              "      <td>50.090000</td>\n",
              "      <td>49.620000</td>\n",
              "      <td>44.38000</td>\n",
              "      <td>36.050000</td>\n",
              "    </tr>\n",
              "  </tbody>\n",
              "</table>\n",
              "</div>\n",
              "      <button class=\"colab-df-convert\" onclick=\"convertToInteractive('df-7d4e3ce2-3b23-4d7e-99f9-93c1957cc2f1')\"\n",
              "              title=\"Convert this dataframe to an interactive table.\"\n",
              "              style=\"display:none;\">\n",
              "        \n",
              "  <svg xmlns=\"http://www.w3.org/2000/svg\" height=\"24px\"viewBox=\"0 0 24 24\"\n",
              "       width=\"24px\">\n",
              "    <path d=\"M0 0h24v24H0V0z\" fill=\"none\"/>\n",
              "    <path d=\"M18.56 5.44l.94 2.06.94-2.06 2.06-.94-2.06-.94-.94-2.06-.94 2.06-2.06.94zm-11 1L8.5 8.5l.94-2.06 2.06-.94-2.06-.94L8.5 2.5l-.94 2.06-2.06.94zm10 10l.94 2.06.94-2.06 2.06-.94-2.06-.94-.94-2.06-.94 2.06-2.06.94z\"/><path d=\"M17.41 7.96l-1.37-1.37c-.4-.4-.92-.59-1.43-.59-.52 0-1.04.2-1.43.59L10.3 9.45l-7.72 7.72c-.78.78-.78 2.05 0 2.83L4 21.41c.39.39.9.59 1.41.59.51 0 1.02-.2 1.41-.59l7.78-7.78 2.81-2.81c.8-.78.8-2.07 0-2.86zM5.41 20L4 18.59l7.72-7.72 1.47 1.35L5.41 20z\"/>\n",
              "  </svg>\n",
              "      </button>\n",
              "      \n",
              "  <style>\n",
              "    .colab-df-container {\n",
              "      display:flex;\n",
              "      flex-wrap:wrap;\n",
              "      gap: 12px;\n",
              "    }\n",
              "\n",
              "    .colab-df-convert {\n",
              "      background-color: #E8F0FE;\n",
              "      border: none;\n",
              "      border-radius: 50%;\n",
              "      cursor: pointer;\n",
              "      display: none;\n",
              "      fill: #1967D2;\n",
              "      height: 32px;\n",
              "      padding: 0 0 0 0;\n",
              "      width: 32px;\n",
              "    }\n",
              "\n",
              "    .colab-df-convert:hover {\n",
              "      background-color: #E2EBFA;\n",
              "      box-shadow: 0px 1px 2px rgba(60, 64, 67, 0.3), 0px 1px 3px 1px rgba(60, 64, 67, 0.15);\n",
              "      fill: #174EA6;\n",
              "    }\n",
              "\n",
              "    [theme=dark] .colab-df-convert {\n",
              "      background-color: #3B4455;\n",
              "      fill: #D2E3FC;\n",
              "    }\n",
              "\n",
              "    [theme=dark] .colab-df-convert:hover {\n",
              "      background-color: #434B5C;\n",
              "      box-shadow: 0px 1px 3px 1px rgba(0, 0, 0, 0.15);\n",
              "      filter: drop-shadow(0px 1px 2px rgba(0, 0, 0, 0.3));\n",
              "      fill: #FFFFFF;\n",
              "    }\n",
              "  </style>\n",
              "\n",
              "      <script>\n",
              "        const buttonEl =\n",
              "          document.querySelector('#df-7d4e3ce2-3b23-4d7e-99f9-93c1957cc2f1 button.colab-df-convert');\n",
              "        buttonEl.style.display =\n",
              "          google.colab.kernel.accessAllowed ? 'block' : 'none';\n",
              "\n",
              "        async function convertToInteractive(key) {\n",
              "          const element = document.querySelector('#df-7d4e3ce2-3b23-4d7e-99f9-93c1957cc2f1');\n",
              "          const dataTable =\n",
              "            await google.colab.kernel.invokeFunction('convertToInteractive',\n",
              "                                                     [key], {});\n",
              "          if (!dataTable) return;\n",
              "\n",
              "          const docLinkHtml = 'Like what you see? Visit the ' +\n",
              "            '<a target=\"_blank\" href=https://colab.research.google.com/notebooks/data_table.ipynb>data table notebook</a>'\n",
              "            + ' to learn more about interactive tables.';\n",
              "          element.innerHTML = '';\n",
              "          dataTable['output_type'] = 'display_data';\n",
              "          await google.colab.output.renderOutput(dataTable, element);\n",
              "          const docLink = document.createElement('div');\n",
              "          docLink.innerHTML = docLinkHtml;\n",
              "          element.appendChild(docLink);\n",
              "        }\n",
              "      </script>\n",
              "    </div>\n",
              "  </div>\n",
              "  "
            ]
          },
          "metadata": {},
          "execution_count": 123
        }
      ]
    },
    {
      "cell_type": "code",
      "source": [
        "# Checking the data information after cleaning it\n",
        "dropout_ratio.info()"
      ],
      "metadata": {
        "colab": {
          "base_uri": "https://localhost:8080/"
        },
        "id": "SKaJ7CrWyjtn",
        "outputId": "e2578801-dbaf-42a0-88f7-f7c5020e6bc4"
      },
      "execution_count": 124,
      "outputs": [
        {
          "output_type": "stream",
          "name": "stdout",
          "text": [
            "<class 'pandas.core.frame.DataFrame'>\n",
            "RangeIndex: 110 entries, 0 to 109\n",
            "Data columns (total 14 columns):\n",
            " #   Column               Non-Null Count  Dtype  \n",
            "---  ------               --------------  -----  \n",
            " 0   State_UT             110 non-null    object \n",
            " 1   year                 110 non-null    object \n",
            " 2   Primary_Boys         110 non-null    float64\n",
            " 3   Primary_Girls        110 non-null    float64\n",
            " 4   Primary_Total        110 non-null    object \n",
            " 5   Upper Primary_Boys   110 non-null    float64\n",
            " 6   Upper Primary_Girls  110 non-null    float64\n",
            " 7   Upper Primary_Total  110 non-null    object \n",
            " 8   Secondary _Boys      110 non-null    float64\n",
            " 9   Secondary _Girls     110 non-null    float64\n",
            " 10  Secondary _Total     110 non-null    object \n",
            " 11  HrSecondary_Boys     110 non-null    float64\n",
            " 12  HrSecondary_Girls    110 non-null    float64\n",
            " 13  HrSecondary_Total    110 non-null    object \n",
            "dtypes: float64(8), object(6)\n",
            "memory usage: 12.2+ KB\n"
          ]
        }
      ]
    },
    {
      "cell_type": "markdown",
      "source": [
        "## **Starting the Data Visualization**"
      ],
      "metadata": {
        "id": "tmF_FfNky19e"
      }
    },
    {
      "cell_type": "code",
      "source": [
        "#importing libraries for data visualization\n",
        "import matplotlib.pyplot as plt\n",
        "import seaborn as sns"
      ],
      "metadata": {
        "id": "lcxACmITzHM1"
      },
      "execution_count": 125,
      "outputs": []
    },
    {
      "cell_type": "code",
      "source": [
        "#grouping all the values for each states\n",
        "plt.figure(figsize= (35 , 15))\n",
        "\n",
        "sns.countplot(dropout_ratio['State_UT'])"
      ],
      "metadata": {
        "colab": {
          "base_uri": "https://localhost:8080/",
          "height": 587
        },
        "id": "Z7p7fiZCzHJ-",
        "outputId": "f979ff67-e650-48a8-f135-af3e9c59fdf6"
      },
      "execution_count": 131,
      "outputs": [
        {
          "output_type": "stream",
          "name": "stderr",
          "text": [
            "/usr/local/lib/python3.8/dist-packages/seaborn/_decorators.py:36: FutureWarning: Pass the following variable as a keyword arg: x. From version 0.12, the only valid positional argument will be `data`, and passing other arguments without an explicit keyword will result in an error or misinterpretation.\n",
            "  warnings.warn(\n"
          ]
        },
        {
          "output_type": "execute_result",
          "data": {
            "text/plain": [
              "<AxesSubplot:xlabel='State_UT', ylabel='count'>"
            ]
          },
          "metadata": {},
          "execution_count": 131
        },
        {
          "output_type": "display_data",
          "data": {
            "text/plain": [
              "<Figure size 2520x1080 with 1 Axes>"
            ],
            "image/png": "[encoded data removed]"
          },
          "metadata": {
            "needs_background": "light"
          }
        }
      ]
    },
    {
      "cell_type": "code",
      "source": [
        "#Visualizing primary girls dropout ratio in Andhra Pradesh\n",
        "plt.bar(data_ap['Primary_Girls'], data_ap['year'])\n",
        "plt.xlabel('Primary Girls')\n",
        "plt.ylabel('Year')\n",
        "plt.title('Year wise Primary Girls ratio in AP')\n",
        "plt.show()"
      ],
      "metadata": {
        "colab": {
          "base_uri": "https://localhost:8080/",
          "height": 295
        },
        "id": "aJnOnRdx01zi",
        "outputId": "8d41ea07-0e19-4f4e-f7c3-af4ecc812283"
      },
      "execution_count": 132,
      "outputs": [
        {
          "output_type": "display_data",
          "data": {
            "text/plain": [
              "<Figure size 432x288 with 1 Axes>"
            ],
            "image/png": "[encoded data removed]"
          },
          "metadata": {
            "needs_background": "light"
          }
        }
      ]
    },
    {
      "cell_type": "code",
      "source": [
        "#Visualizing primary Boys dropout ratio in Andhra Pradesh\n",
        "plt.bar(data_ap['Primary_Boys'], data_ap['year'])\n",
        "plt.xlabel('Primary Boys')\n",
        "plt.ylabel('Year')\n",
        "plt.title('Year wise Primary Boys ratio in AP')\n",
        "plt.show()"
      ],
      "metadata": {
        "colab": {
          "base_uri": "https://localhost:8080/",
          "height": 295
        },
        "id": "R5PDTc6B2vTY",
        "outputId": "f47dccd2-b833-4e4c-eff8-7c7a1d3c1b2c"
      },
      "execution_count": 133,
      "outputs": [
        {
          "output_type": "display_data",
          "data": {
            "text/plain": [
              "<Figure size 432x288 with 1 Axes>"
            ],
            "image/png": "[encoded data removed]"
          },
          "metadata": {
            "needs_background": "light"
          }
        }
      ]
    },
    {
      "cell_type": "code",
      "source": [
        "#Visualizing primary Boys dropout ratio in Andhra Pradesh\n",
        "plt.bar(data_ap['Primary_Boys'], data_ap['year'])\n",
        "plt.xlabel('Primary Boys')\n",
        "plt.ylabel('Year')\n",
        "plt.title('Year wise Primary Boys ratio in AP')\n",
        "plt.show()"
      ],
      "metadata": {
        "colab": {
          "base_uri": "https://localhost:8080/",
          "height": 295
        },
        "id": "Ty_WR0Xa3WPZ",
        "outputId": "a471a858-b318-43c1-95eb-8918b7a9e065"
      },
      "execution_count": 135,
      "outputs": [
        {
          "output_type": "display_data",
          "data": {
            "text/plain": [
              "<Figure size 432x288 with 1 Axes>"
            ],
            "image/png": "[encoded data removed]"
          },
          "metadata": {
            "needs_background": "light"
          }
        }
      ]
    },
    {
      "cell_type": "code",
      "source": [
        "#Visualizing secondary Boys dropout ratio in Andhra Pradesh\n",
        "plt.bar(data_ap['Secondary _Boys'], data_ap['year'])\n",
        "plt.xlabel('Secondary Boys')\n",
        "plt.ylabel('Year')\n",
        "plt.title('Year wise Secondary Boys ratio in AP')\n",
        "plt.show()"
      ],
      "metadata": {
        "colab": {
          "base_uri": "https://localhost:8080/",
          "height": 295
        },
        "id": "yFFOCzGI3s3H",
        "outputId": "63882175-7f1e-42b3-dbd8-aeb08f6fc403"
      },
      "execution_count": 137,
      "outputs": [
        {
          "output_type": "display_data",
          "data": {
            "text/plain": [
              "<Figure size 432x288 with 1 Axes>"
            ],
            "image/png": "[encoded data removed]"
          },
          "metadata": {
            "needs_background": "light"
          }
        }
      ]
    },
    {
      "cell_type": "code",
      "source": [
        "#Visualizing Secondary Girls dropout ratio in Andhra Pradesh\n",
        "plt.bar(data_ap['Secondary _Girls'], data_ap['year'])\n",
        "plt.xlabel('Secondary Girls')\n",
        "plt.ylabel('Year')\n",
        "plt.title('Year wise Secondary Girls ratio in AP')\n",
        "plt.show()"
      ],
      "metadata": {
        "colab": {
          "base_uri": "https://localhost:8080/",
          "height": 295
        },
        "id": "LdU6kSBv4IqS",
        "outputId": "f8582218-06bb-4a96-f803-29cca7e26d88"
      },
      "execution_count": 138,
      "outputs": [
        {
          "output_type": "display_data",
          "data": {
            "text/plain": [
              "<Figure size 432x288 with 1 Axes>"
            ],
            "image/png": "[encoded data removed]"
          },
          "metadata": {
            "needs_background": "light"
          }
        }
      ]
    },
    {
      "cell_type": "code",
      "source": [
        "#Visualizing Upper Primary Boys dropout ratio in Andhra Pradesh\n",
        "plt.bar(data_ap['Upper Primary_Boys'], data_ap['year'])\n",
        "plt.xlabel('Upper Primary Boys')\n",
        "plt.ylabel('Year')\n",
        "plt.title('Year wise Upper Primary Boys ratio in AP')\n",
        "plt.show()"
      ],
      "metadata": {
        "colab": {
          "base_uri": "https://localhost:8080/",
          "height": 295
        },
        "id": "7E4z1a0t4ULo",
        "outputId": "820a1dbe-50ab-4bf7-ffd3-e1a63b6811e7"
      },
      "execution_count": 140,
      "outputs": [
        {
          "output_type": "display_data",
          "data": {
            "text/plain": [
              "<Figure size 432x288 with 1 Axes>"
            ],
            "image/png": "[encoded data removed]"
          },
          "metadata": {
            "needs_background": "light"
          }
        }
      ]
    },
    {
      "cell_type": "code",
      "source": [
        "#Visualizing Upper Primary Girls dropout ratio in Andhra Pradesh\n",
        "plt.bar(data_ap['Upper Primary_Girls'], data_ap['year'])\n",
        "plt.xlabel('Upper Primary Girls')\n",
        "plt.ylabel('Year')\n",
        "plt.title('Year wise Upper Primary Girls ratio in AP')\n",
        "plt.show()"
      ],
      "metadata": {
        "colab": {
          "base_uri": "https://localhost:8080/",
          "height": 295
        },
        "id": "rWopZjDm4mvm",
        "outputId": "29d774cf-7281-47d0-dc9f-cd7230249052"
      },
      "execution_count": 141,
      "outputs": [
        {
          "output_type": "display_data",
          "data": {
            "text/plain": [
              "<Figure size 432x288 with 1 Axes>"
            ],
            "image/png": "[encoded data removed]"
          },
          "metadata": {
            "needs_background": "light"
          }
        }
      ]
    },
    {
      "cell_type": "code",
      "source": [
        "# Checking the frequency of the data in HrSecondary Girls data\n",
        "plt.hist(dropout_ratio['HrSecondary_Girls'])\n"
      ],
      "metadata": {
        "colab": {
          "base_uri": "https://localhost:8080/",
          "height": 334
        },
        "id": "dkQOWzdQ47EZ",
        "outputId": "b8c14808-a219-4504-e59f-27c0a15b5b48"
      },
      "execution_count": 152,
      "outputs": [
        {
          "output_type": "execute_result",
          "data": {
            "text/plain": [
              "(array([36., 10., 10., 11.,  9.,  3.,  7.,  8.,  6., 10.]),\n",
              " array([ 0.     ,  1.30645,  2.6129 ,  3.91935,  5.2258 ,  6.53225,\n",
              "         7.8387 ,  9.14515, 10.4516 , 11.75805, 13.0645 ]),\n",
              " <BarContainer object of 10 artists>)"
            ]
          },
          "metadata": {},
          "execution_count": 152
        },
        {
          "output_type": "display_data",
          "data": {
            "text/plain": [
              "<Figure size 432x288 with 1 Axes>"
            ],
            "image/png": "[encoded data removed]"
          },
          "metadata": {
            "needs_background": "light"
          }
        }
      ]
    },
    {
      "cell_type": "code",
      "source": [
        "# Detecting outliers in thed data using box plot\n",
        "\n",
        "plt.figure(figsize= (20,15))\n",
        "\n",
        "plt.subplot(4,4,1)\n",
        "sns.boxplot(dropout_ratio['HrSecondary_Boys'])\n",
        "\n",
        "plt.subplot(4,4,2)\n",
        "sns.boxplot(dropout_ratio['HrSecondary_Girls'])\n",
        "\n",
        "plt.subplot(4,4,3)\n",
        "sns.boxplot(dropout_ratio['Primary_Boys'])\n",
        "\n",
        "plt.subplot(4,4,4)\n",
        "sns.boxplot(dropout_ratio['Primary_Girls'])\n",
        "\n",
        "plt.subplot(4,4,5)\n",
        "sns.boxplot(dropout_ratio['Secondary _Boys'])\n",
        "\n",
        "plt.subplot(4,4,6)\n",
        "sns.boxplot(dropout_ratio['Secondary _Girls'])"
      ],
      "metadata": {
        "colab": {
          "base_uri": "https://localhost:8080/",
          "height": 699
        },
        "id": "NtcbK-4V5fOk",
        "outputId": "83178bde-280a-4dde-e0f3-fc12abf0cd6e"
      },
      "execution_count": 144,
      "outputs": [
        {
          "output_type": "stream",
          "name": "stderr",
          "text": [
            "/usr/local/lib/python3.8/dist-packages/seaborn/_decorators.py:36: FutureWarning: Pass the following variable as a keyword arg: x. From version 0.12, the only valid positional argument will be `data`, and passing other arguments without an explicit keyword will result in an error or misinterpretation.\n",
            "  warnings.warn(\n",
            "/usr/local/lib/python3.8/dist-packages/seaborn/_decorators.py:36: FutureWarning: Pass the following variable as a keyword arg: x. From version 0.12, the only valid positional argument will be `data`, and passing other arguments without an explicit keyword will result in an error or misinterpretation.\n",
            "  warnings.warn(\n",
            "/usr/local/lib/python3.8/dist-packages/seaborn/_decorators.py:36: FutureWarning: Pass the following variable as a keyword arg: x. From version 0.12, the only valid positional argument will be `data`, and passing other arguments without an explicit keyword will result in an error or misinterpretation.\n",
            "  warnings.warn(\n",
            "/usr/local/lib/python3.8/dist-packages/seaborn/_decorators.py:36: FutureWarning: Pass the following variable as a keyword arg: x. From version 0.12, the only valid positional argument will be `data`, and passing other arguments without an explicit keyword will result in an error or misinterpretation.\n",
            "  warnings.warn(\n",
            "/usr/local/lib/python3.8/dist-packages/seaborn/_decorators.py:36: FutureWarning: Pass the following variable as a keyword arg: x. From version 0.12, the only valid positional argument will be `data`, and passing other arguments without an explicit keyword will result in an error or misinterpretation.\n",
            "  warnings.warn(\n",
            "/usr/local/lib/python3.8/dist-packages/seaborn/_decorators.py:36: FutureWarning: Pass the following variable as a keyword arg: x. From version 0.12, the only valid positional argument will be `data`, and passing other arguments without an explicit keyword will result in an error or misinterpretation.\n",
            "  warnings.warn(\n"
          ]
        },
        {
          "output_type": "execute_result",
          "data": {
            "text/plain": [
              "<AxesSubplot:xlabel='Secondary _Girls'>"
            ]
          },
          "metadata": {},
          "execution_count": 144
        },
        {
          "output_type": "display_data",
          "data": {
            "text/plain": [
              "<Figure size 1440x1080 with 6 Axes>"
            ],
            "image/png": "[encoded data removed]"
          },
          "metadata": {
            "needs_background": "light"
          }
        }
      ]
    },
    {
      "cell_type": "markdown",
      "source": [
        "**It is clear that the data has some outliers in it**"
      ],
      "metadata": {
        "id": "PUoXLbkf7f84"
      }
    },
    {
      "cell_type": "code",
      "source": [
        "# Dealing with outliers\n",
        "\n",
        "dropout_ratio['HrSecondary_Boys'] = dropout_ratio['HrSecondary_Boys'].clip(lower=dropout_ratio['HrSecondary_Boys'].quantile(0.05), upper=dropout_ratio['HrSecondary_Boys'].quantile(0.95))"
      ],
      "metadata": {
        "id": "HwxGzieY7fmk"
      },
      "execution_count": 145,
      "outputs": []
    },
    {
      "cell_type": "code",
      "source": [
        "dropout_ratio['HrSecondary_Girls'] = dropout_ratio['HrSecondary_Girls'].clip(lower=dropout_ratio['HrSecondary_Girls'].quantile(0.05), upper=dropout_ratio['HrSecondary_Girls'].quantile(0.95))"
      ],
      "metadata": {
        "id": "8N1EHgf18q9t"
      },
      "execution_count": 146,
      "outputs": []
    },
    {
      "cell_type": "code",
      "source": [
        "dropout_ratio['Primary_Boys'] = dropout_ratio['Primary_Boys'].clip(lower=dropout_ratio['Primary_Boys'].quantile(0.05), upper=dropout_ratio['Primary_Boys'].quantile(0.95))"
      ],
      "metadata": {
        "id": "ENjlfqlB82j7"
      },
      "execution_count": 147,
      "outputs": []
    },
    {
      "cell_type": "code",
      "source": [
        "dropout_ratio['Primary_Girls'] = dropout_ratio['Primary_Girls'].clip(lower=dropout_ratio['Primary_Girls'].quantile(0.05), upper=dropout_ratio['Primary_Girls'].quantile(0.95))"
      ],
      "metadata": {
        "id": "VLCqugTN9Zay"
      },
      "execution_count": 148,
      "outputs": []
    },
    {
      "cell_type": "code",
      "source": [
        "dropout_ratio['Secondary _Boys'] = dropout_ratio['Secondary _Boys'].clip(lower=dropout_ratio['Secondary _Boys'].quantile(0.05), upper=dropout_ratio['Secondary _Boys'].quantile(0.95))"
      ],
      "metadata": {
        "id": "mNsG7WCu9ZXJ"
      },
      "execution_count": 149,
      "outputs": []
    },
    {
      "cell_type": "code",
      "source": [
        "dropout_ratio['Secondary _Girls'] = dropout_ratio['Secondary _Girls'].clip(lower=dropout_ratio['Secondary _Girls'].quantile(0.05), upper=dropout_ratio['Secondary _Girls'].quantile(0.95))"
      ],
      "metadata": {
        "id": "MFvyicB_9ZVi"
      },
      "execution_count": 150,
      "outputs": []
    },
    {
      "cell_type": "code",
      "source": [
        "# Detecting outliers after removing them in the data using box plot\n",
        "\n",
        "plt.figure(figsize= (20,15))\n",
        "\n",
        "plt.subplot(4,4,1)\n",
        "sns.boxplot(dropout_ratio['HrSecondary_Boys'])\n",
        "\n",
        "plt.subplot(4,4,2)\n",
        "sns.boxplot(dropout_ratio['HrSecondary_Girls'])\n",
        "\n",
        "plt.subplot(4,4,3)\n",
        "sns.boxplot(dropout_ratio['Primary_Boys'])\n",
        "\n",
        "plt.subplot(4,4,4)\n",
        "sns.boxplot(dropout_ratio['Primary_Girls'])\n",
        "\n",
        "plt.subplot(4,4,5)\n",
        "sns.boxplot(dropout_ratio['Secondary _Boys'])\n",
        "\n",
        "plt.subplot(4,4,6)\n",
        "sns.boxplot(dropout_ratio['Secondary _Girls'])"
      ],
      "metadata": {
        "colab": {
          "base_uri": "https://localhost:8080/",
          "height": 699
        },
        "id": "GO1rvXR09ZSN",
        "outputId": "39cbc57a-7c11-41b7-d07a-376acb77732c"
      },
      "execution_count": 151,
      "outputs": [
        {
          "output_type": "stream",
          "name": "stderr",
          "text": [
            "/usr/local/lib/python3.8/dist-packages/seaborn/_decorators.py:36: FutureWarning: Pass the following variable as a keyword arg: x. From version 0.12, the only valid positional argument will be `data`, and passing other arguments without an explicit keyword will result in an error or misinterpretation.\n",
            "  warnings.warn(\n",
            "/usr/local/lib/python3.8/dist-packages/seaborn/_decorators.py:36: FutureWarning: Pass the following variable as a keyword arg: x. From version 0.12, the only valid positional argument will be `data`, and passing other arguments without an explicit keyword will result in an error or misinterpretation.\n",
            "  warnings.warn(\n",
            "/usr/local/lib/python3.8/dist-packages/seaborn/_decorators.py:36: FutureWarning: Pass the following variable as a keyword arg: x. From version 0.12, the only valid positional argument will be `data`, and passing other arguments without an explicit keyword will result in an error or misinterpretation.\n",
            "  warnings.warn(\n",
            "/usr/local/lib/python3.8/dist-packages/seaborn/_decorators.py:36: FutureWarning: Pass the following variable as a keyword arg: x. From version 0.12, the only valid positional argument will be `data`, and passing other arguments without an explicit keyword will result in an error or misinterpretation.\n",
            "  warnings.warn(\n",
            "/usr/local/lib/python3.8/dist-packages/seaborn/_decorators.py:36: FutureWarning: Pass the following variable as a keyword arg: x. From version 0.12, the only valid positional argument will be `data`, and passing other arguments without an explicit keyword will result in an error or misinterpretation.\n",
            "  warnings.warn(\n",
            "/usr/local/lib/python3.8/dist-packages/seaborn/_decorators.py:36: FutureWarning: Pass the following variable as a keyword arg: x. From version 0.12, the only valid positional argument will be `data`, and passing other arguments without an explicit keyword will result in an error or misinterpretation.\n",
            "  warnings.warn(\n"
          ]
        },
        {
          "output_type": "execute_result",
          "data": {
            "text/plain": [
              "<AxesSubplot:xlabel='Secondary _Girls'>"
            ]
          },
          "metadata": {},
          "execution_count": 151
        },
        {
          "output_type": "display_data",
          "data": {
            "text/plain": [
              "<Figure size 1440x1080 with 6 Axes>"
            ],
            "image/png": "[encoded data removed]"
          },
          "metadata": {
            "needs_background": "light"
          }
        }
      ]
    },
    {
      "cell_type": "markdown",
      "source": [
        "**Now we can see that there is no outliers in the data**"
      ],
      "metadata": {
        "id": "7-Q0m2L_-jzg"
      }
    }
  ]
}